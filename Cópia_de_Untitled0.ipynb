{
  "nbformat": 4,
  "nbformat_minor": 0,
  "metadata": {
    "colab": {
      "provenance": [],
      "authorship_tag": "ABX9TyMSpdyeC0nZCbZyiM73ShTF",
      "include_colab_link": true
    },
    "kernelspec": {
      "name": "python3",
      "display_name": "Python 3"
    },
    "language_info": {
      "name": "python"
    }
  },
  "cells": [
    {
      "cell_type": "markdown",
      "metadata": {
        "id": "view-in-github",
        "colab_type": "text"
      },
      "source": [
        "<a href=\"https://colab.research.google.com/github/Leo-Rodrigues-Carneiro/Leo-Rodrigues-Carneiro/blob/main/C%C3%B3pia_de_Untitled0.ipynb\" target=\"_parent\"><img src=\"https://colab.research.google.com/assets/colab-badge.svg\" alt=\"Open In Colab\"/></a>"
      ]
    },
    {
      "cell_type": "code",
      "execution_count": null,
      "metadata": {
        "colab": {
          "base_uri": "https://localhost:8080/"
        },
        "id": "w6W1jrNc7RzQ",
        "outputId": "93102f0e-fe89-49cb-cf0b-91e92b08b168"
      },
      "outputs": [
        {
          "output_type": "stream",
          "name": "stdout",
          "text": [
            "+-------+---+\n",
            "|   Name|Age|\n",
            "+-------+---+\n",
            "|  Alice| 34|\n",
            "|    Bob| 45|\n",
            "|Charlie| 29|\n",
            "+-------+---+\n",
            "\n",
            "+-----+---+\n",
            "| Name|Age|\n",
            "+-----+---+\n",
            "|Alice| 34|\n",
            "|  Bob| 45|\n",
            "+-----+---+\n",
            "\n"
          ]
        }
      ],
      "source": [
        "from pyspark.sql import SparkSession\n",
        "\n",
        "# Cria uma sessão Spark\n",
        "spark = SparkSession.builder.appName(\"SimplePySparkExample\").getOrCreate()\n",
        "\n",
        "# Cria um DataFrame com dados fictícios\n",
        "data = [(\"Alice\", 34), (\"Bob\", 45), (\"Charlie\", 29)]\n",
        "df = spark.createDataFrame(data, [\"Name\", \"Age\"])\n",
        "\n",
        "# Mostra o DataFrame\n",
        "df.show()\n",
        "\n",
        "# Filtra o DataFrame para idades maiores que 30\n",
        "df_filtered = df.filter(df[\"Age\"] > 30)\n",
        "\n",
        "# Mostra o DataFrame filtrado\n",
        "df_filtered.show()\n",
        "\n",
        "# Encerra a sessão Spark\n",
        "spark.stop()"
      ]
    }
  ]
}